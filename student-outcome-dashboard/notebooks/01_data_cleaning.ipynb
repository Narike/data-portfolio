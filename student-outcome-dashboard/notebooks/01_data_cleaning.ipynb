{
 "cells": [
  {
   "cell_type": "code",
   "execution_count": 1,
   "metadata": {},
   "outputs": [
    {
     "name": "stdout",
     "output_type": "stream",
     "text": [
      "<class 'pandas.core.frame.DataFrame'>\n",
      "RangeIndex: 200 entries, 0 to 199\n",
      "Data columns (total 8 columns):\n",
      " #   Column           Non-Null Count  Dtype \n",
      "---  ------           --------------  ----- \n",
      " 0   StudentID        200 non-null    object\n",
      " 1   Gender           200 non-null    object\n",
      " 2   Ethnicity        200 non-null    object\n",
      " 3   Subject          200 non-null    object\n",
      " 4   Grade            200 non-null    object\n",
      " 5   PredictedGrade   200 non-null    object\n",
      " 6   Attendance       200 non-null    int64 \n",
      " 7   FreeSchoolMeals  200 non-null    object\n",
      "dtypes: int64(1), object(7)\n",
      "memory usage: 12.6+ KB\n"
     ]
    }
   ],
   "source": [
    "import pandas as pd\n",
    "\n",
    "#Load data\n",
    "df = pd.read_csv(\"../data/uk_student_outcomes.csv\") #reads the data from the csv using pandas library\n",
    "\n",
    "#Explore\n",
    "\n",
    "df.head() #returns the first 5 rows of the dataframe\n",
    "df.info() #returns information about the dataframe, including column names and data types\n",
    "df.describe() #returns summary statistics of the numerical columns in the dataframe\n",
    "\n",
    "#Clean\n",
    "df.dropna(inplace=True) #removes rows with missing values\n",
    "df['Grade'] = df['Grade'].str.strip() #removes leading and trailing whitespace from the 'Grade' column\n",
    "df['Grade'] = df['Grade'].str.upper() #converts the 'Grade' column to uppercase\n",
    "\n",
    "df.to_csv(\"../data/uk_student_outcomes_cleaned.csv\", index=False) #saves the cleaned dataframe to a new csv file without the index column\n"
   ]
  }
 ],
 "metadata": {
  "kernelspec": {
   "display_name": "Python 3",
   "language": "python",
   "name": "python3"
  },
  "language_info": {
   "codemirror_mode": {
    "name": "ipython",
    "version": 3
   },
   "file_extension": ".py",
   "mimetype": "text/x-python",
   "name": "python",
   "nbconvert_exporter": "python",
   "pygments_lexer": "ipython3",
   "version": "3.12.2"
  }
 },
 "nbformat": 4,
 "nbformat_minor": 2
}
